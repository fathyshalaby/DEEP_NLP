{
 "cells": [
  {
   "cell_type": "markdown",
   "metadata": {
    "colab_type": "text",
    "id": "qhI4EoTlcg46"
   },
   "source": [
    "# Assignment 1 344.063, Natural Language Processing with Deep Learning (NLPwDL) 2020S\n",
    "\n",
    "* Markus Vogl, k01155575, vogl91@gmail.com\n",
    "* Fathy Shalaby, k11701175, fathy.mshalaby@gmail.com\n"
   ]
  },
  {
   "cell_type": "code",
   "execution_count": 1,
   "metadata": {
    "colab": {
     "base_uri": "https://localhost:8080/",
     "height": 565
    },
    "colab_type": "code",
    "id": "Qto-YKerTm4M",
    "outputId": "aed8aed8-caa4-41b5-e963-a3925ce9ffd3"
   },
   "outputs": [],
   "source": [
    "# RUN ONCE load models + data\n",
    "#!python -m spacy download en_core_web_md\n",
    "#import nltk\n",
    "#nltk.download('stopwords')\n",
    "\n",
    "# get data via wget if it doesn't exist\n",
    "#!wget -nc http://öä.eu/sst5.data.txt\n",
    "#!wget -nc http://öä.eu/sst5.labels.txt\n",
    "\n",
    "# other option: load data via gdrive mounting\n",
    "# drive.mount('/gdrive')\n",
    "# %cd /gdrive/My Drive/sst5/<"
   ]
  },
  {
   "cell_type": "code",
   "execution_count": 2,
   "metadata": {
    "colab": {},
    "colab_type": "code",
    "id": "wr1hE0V4uTWw"
   },
   "outputs": [],
   "source": [
    "%matplotlib inline\n",
    "import numpy as np\n",
    "import pandas as pd\n",
    "import seaborn as sns\n",
    "import numpy as np\n",
    "import spacy \n",
    "import sklearn\n",
    "import nltk\n",
    "from nltk.corpus import stopwords\n",
    "from nltk.stem.porter import *\n",
    "from collections import Counter\n",
    "from sklearn.feature_extraction.text import CountVectorizer, TfidfVectorizer\n",
    "from sklearn.metrics import accuracy_score, confusion_matrix\n",
    "from sklearn.base import TransformerMixin \n",
    "from sklearn.pipeline import Pipeline\n",
    "from sklearn.svm import LinearSVC\n",
    "from sklearn.model_selection import train_test_split\n",
    "from sklearn.decomposition import TruncatedSVD, PCA\n",
    "from spacy.lang.en.stop_words import STOP_WORDS\n",
    "from spacy.lang.en import English\n",
    "from spacy.lemmatizer import Lemmatizer\n",
    "from spacy.tokens import Doc, Span, Token\n",
    "from matplotlib import pyplot as plt\n",
    "from sklearn.ensemble import GradientBoostingClassifier\n",
    "from sklearn.ensemble import RandomForestClassifier\n",
    "from sklearn.linear_model import SGDClassifier\n",
    "from sklearn.model_selection import GridSearchCV\n",
    "flatten = lambda l: [item for sublist in l for item in sublist]\n",
    "mapl =    lambda f, i: list(map(f, i))\n",
    "filterl = lambda f, i: list(filter(f, i))\n",
    "SEED = 42"
   ]
  },
  {
   "cell_type": "markdown",
   "metadata": {
    "colab_type": "text",
    "id": "2T6-zHimCDaG"
   },
   "source": [
    "\n",
    "**Data Exploration**"
   ]
  },
  {
   "cell_type": "markdown",
   "metadata": {
    "colab_type": "text",
    "id": "eg_r_IXB6uAm"
   },
   "source": [
    "***sst-5 is a sentiment analysis collection, created based on the movie reviews in the IMDB\n",
    "website [1]. The provided dataset in this assignment consists of a set of sentences, and their\n",
    "corresponding labels. The labels are in 5 levels, annotated from very negative (-2) to very\n",
    "positive (+2). The dataset is available for downloading in http://drive.jku.at/ssf/s/\n",
    "readFile/share/14324/4544703232741430166/publicLink/sst5.zip***"
   ]
  },
  {
   "cell_type": "code",
   "execution_count": 3,
   "metadata": {
    "colab": {
     "base_uri": "https://localhost:8080/",
     "height": 407
    },
    "colab_type": "code",
    "id": "pBR6YUNajnJy",
    "outputId": "141f6f6a-b3fa-48e7-e3c2-a4ab6b8ad641"
   },
   "outputs": [
    {
     "data": {
      "text/html": [
       "<div>\n",
       "<style scoped>\n",
       "    .dataframe tbody tr th:only-of-type {\n",
       "        vertical-align: middle;\n",
       "    }\n",
       "\n",
       "    .dataframe tbody tr th {\n",
       "        vertical-align: top;\n",
       "    }\n",
       "\n",
       "    .dataframe thead th {\n",
       "        text-align: right;\n",
       "    }\n",
       "</style>\n",
       "<table border=\"1\" class=\"dataframe\">\n",
       "  <thead>\n",
       "    <tr style=\"text-align: right;\">\n",
       "      <th></th>\n",
       "      <th>sentence_id</th>\n",
       "      <th>text</th>\n",
       "      <th>label</th>\n",
       "    </tr>\n",
       "  </thead>\n",
       "  <tbody>\n",
       "    <tr>\n",
       "      <th>0</th>\n",
       "      <td>0</td>\n",
       "      <td>Reno himself can take credit for most of the m...</td>\n",
       "      <td>1</td>\n",
       "    </tr>\n",
       "    <tr>\n",
       "      <th>1</th>\n",
       "      <td>1</td>\n",
       "      <td>Despite the film 's shortcomings , the stories...</td>\n",
       "      <td>1</td>\n",
       "    </tr>\n",
       "    <tr>\n",
       "      <th>2</th>\n",
       "      <td>2</td>\n",
       "      <td>Despite its dry wit and compassion , the film ...</td>\n",
       "      <td>-1</td>\n",
       "    </tr>\n",
       "    <tr>\n",
       "      <th>3</th>\n",
       "      <td>3</td>\n",
       "      <td>The central character is n't complex enough to...</td>\n",
       "      <td>0</td>\n",
       "    </tr>\n",
       "    <tr>\n",
       "      <th>4</th>\n",
       "      <td>4</td>\n",
       "      <td>Rifkin no doubt fancies himself something of a...</td>\n",
       "      <td>-2</td>\n",
       "    </tr>\n",
       "    <tr>\n",
       "      <th>...</th>\n",
       "      <td>...</td>\n",
       "      <td>...</td>\n",
       "      <td>...</td>\n",
       "    </tr>\n",
       "    <tr>\n",
       "      <th>11839</th>\n",
       "      <td>11839</td>\n",
       "      <td>Just as moving , uplifting and funny as ever .</td>\n",
       "      <td>1</td>\n",
       "    </tr>\n",
       "    <tr>\n",
       "      <th>11840</th>\n",
       "      <td>11840</td>\n",
       "      <td>Davis ... is so enamored of her own creation t...</td>\n",
       "      <td>-1</td>\n",
       "    </tr>\n",
       "    <tr>\n",
       "      <th>11841</th>\n",
       "      <td>11841</td>\n",
       "      <td>An exhilarating futuristic thriller-noir , Min...</td>\n",
       "      <td>2</td>\n",
       "    </tr>\n",
       "    <tr>\n",
       "      <th>11842</th>\n",
       "      <td>11842</td>\n",
       "      <td>I got a headache watching this meaningless dow...</td>\n",
       "      <td>-2</td>\n",
       "    </tr>\n",
       "    <tr>\n",
       "      <th>11843</th>\n",
       "      <td>11843</td>\n",
       "      <td>If you dig on David Mamet 's mind tricks ... r...</td>\n",
       "      <td>2</td>\n",
       "    </tr>\n",
       "  </tbody>\n",
       "</table>\n",
       "<p>11844 rows × 3 columns</p>\n",
       "</div>"
      ],
      "text/plain": [
       "       sentence_id                                               text  label\n",
       "0                0  Reno himself can take credit for most of the m...      1\n",
       "1                1  Despite the film 's shortcomings , the stories...      1\n",
       "2                2  Despite its dry wit and compassion , the film ...     -1\n",
       "3                3  The central character is n't complex enough to...      0\n",
       "4                4  Rifkin no doubt fancies himself something of a...     -2\n",
       "...            ...                                                ...    ...\n",
       "11839        11839     Just as moving , uplifting and funny as ever .      1\n",
       "11840        11840  Davis ... is so enamored of her own creation t...     -1\n",
       "11841        11841  An exhilarating futuristic thriller-noir , Min...      2\n",
       "11842        11842  I got a headache watching this meaningless dow...     -2\n",
       "11843        11843  If you dig on David Mamet 's mind tricks ... r...      2\n",
       "\n",
       "[11844 rows x 3 columns]"
      ]
     },
     "execution_count": 3,
     "metadata": {},
     "output_type": "execute_result"
    }
   ],
   "source": [
    "df = pd.read_csv('sst5.data.txt')\n",
    "X = np.array(df['text'])\n",
    "Y = np.array(df['label'])\n",
    "df"
   ]
  },
  {
   "cell_type": "markdown",
   "metadata": {},
   "source": [
    "The data also has the issue, that the classes -1 and 1 have significantly more members: Over 6000 in these 2 vs 500 in the other 3 classes."
   ]
  },
  {
   "cell_type": "code",
   "execution_count": 4,
   "metadata": {},
   "outputs": [
    {
     "data": {
      "text/plain": [
       "<matplotlib.axes._subplots.AxesSubplot at 0x7fe8fe506130>"
      ]
     },
     "execution_count": 4,
     "metadata": {},
     "output_type": "execute_result"
    },
    {
     "data": {
      "image/png": "[encoded data removed]",
      "text/plain": [
       "<Figure size 432x288 with 1 Axes>"
      ]
     },
     "metadata": {
      "needs_background": "light"
     },
     "output_type": "display_data"
    }
   ],
   "source": [
    "df['label'].hist()"
   ]
  },
  {
   "cell_type": "code",
   "execution_count": 5,
   "metadata": {
    "colab": {
     "base_uri": "https://localhost:8080/",
     "height": 108
    },
    "colab_type": "code",
    "id": "w7S469CIkB2Y",
    "outputId": "5b61fe91-cf52-4fd9-8965-39a3f660ea36"
   },
   "outputs": [
    {
     "data": {
      "text/plain": [
       "{-2: 'very negative',\n",
       " -1: 'negative',\n",
       " 0: 'neutral',\n",
       " 1: 'positive',\n",
       " 2: 'very positive'}"
      ]
     },
     "execution_count": 5,
     "metadata": {},
     "output_type": "execute_result"
    }
   ],
   "source": [
    "labels = pd.read_csv('sst5.labels.txt',header=None)\n",
    "label_id = {lab[0]: lab[1] for lab in labels.to_numpy()}; label_id"
   ]
  },
  {
   "cell_type": "markdown",
   "metadata": {
    "colab_type": "text",
    "id": "qjJYTAF5fOFq"
   },
   "source": [
    "**Manual data inspection for adjectives**\n"
   ]
  },
  {
   "cell_type": "code",
   "execution_count": 6,
   "metadata": {
    "colab": {
     "base_uri": "https://localhost:8080/",
     "height": 72
    },
    "colab_type": "code",
    "id": "IJzo6PlY3hR_",
    "outputId": "6dbfa851-1e1f-464b-a7b2-a81f2a16c763"
   },
   "outputs": [
    {
     "name": "stdout",
     "output_type": "stream",
     "text": [
      "('tagger', <spacy.pipeline.pipes.Tagger object at 0x7fe8fe15fca0>)\n",
      "('parser', <spacy.pipeline.pipes.DependencyParser object at 0x7fe8fe165880>)\n",
      "('ner', <spacy.pipeline.pipes.EntityRecognizer object at 0x7fe8fe165dc0>)\n"
     ]
    }
   ],
   "source": [
    "# loading a prebuilt the english language processing pipeline - that starts out with 3 components. this can take some time\n",
    "nlp = spacy.load(\"en_core_web_md\")\n",
    "print(*nlp.pipeline, sep = \"\\n\")"
   ]
  },
  {
   "cell_type": "code",
   "execution_count": 7,
   "metadata": {
    "colab": {
     "base_uri": "https://localhost:8080/",
     "height": 35
    },
    "colab_type": "code",
    "id": "CUeWXo3ryBvh",
    "outputId": "5a450521-17b0-4d39-fb51-19401b82818e"
   },
   "outputs": [
    {
     "name": "stdout",
     "output_type": "stream",
     "text": [
      "maximum sentence length =  56\n"
     ]
    }
   ],
   "source": [
    "# Loop to get just the adjectives from each review\n",
    "docl = list( nlp.pipe(X)) # returns just an iterator -> make list\n",
    "adj_filter = lambda tok: tok.pos_ == 'ADJ'\n",
    "words_adj = [filterl(adj_filter, line) for line in docl]\n",
    "df['words_adj'] = pd.Series(words_adj)\n",
    "df.head() # we can see that for sentence 1 that adj were found which could be because of the default dictionary not having all words \n",
    "max_sent_len=max(len(docl[i]) for i in range(0,len(docl)))\n",
    "print('maximum sentence length = ', max_sent_len)"
   ]
  },
  {
   "cell_type": "markdown",
   "metadata": {
    "colab_type": "text",
    "id": "mYj45Ooj3ppj"
   },
   "source": [
    "Analyze the most common adjectives and plot histograms"
   ]
  },
  {
   "cell_type": "code",
   "execution_count": 8,
   "metadata": {
    "colab": {
     "base_uri": "https://localhost:8080/",
     "height": 1000
    },
    "colab_type": "code",
    "id": "AxDkOiUT1HcV",
    "outputId": "530e2f4e-5d0a-45d5-9aff-ec0c13b92d0c",
    "scrolled": false
   },
   "outputs": [
    {
     "name": "stdout",
     "output_type": "stream",
     "text": [
      "4               [honest, entire, crude, exploitative]\n",
      "16                                             [lead]\n",
      "36                      [own, sadistic, sour, little]\n",
      "37                                                 []\n",
      "41       [loose, unaccountable, sophisticated, worst]\n",
      "                             ...                     \n",
      "11797                            [elemental, genuine]\n",
      "11800                                [slapstick, big]\n",
      "11806                          [first, second, small]\n",
      "11821                        [small, natural, pretty]\n",
      "11842                                   [meaningless]\n",
      "Name: words_adj, Length: 1508, dtype: object\n",
      "very negative [('bad', 147), ('good', 46), ('dull', 41), ('more', 38), ('much', 29), ('own', 28), ('old', 28), ('little', 27), ('funny', 27), ('many', 25)]\n",
      "2                        [dry, philosophical, sedate]\n",
      "13               [cold, intricate, difficult, deeper]\n",
      "17                                                 []\n",
      "22                                             [full]\n",
      "23                                        [promising]\n",
      "                             ...                     \n",
      "11825                                              []\n",
      "11827                                          [more]\n",
      "11828                                      [raw, fun]\n",
      "11832    [much, second, intriguing, dull, ridiculous]\n",
      "11840                   [enamored, own, insufferable]\n",
      "Name: words_adj, Length: 3137, dtype: object\n",
      "negative [('more', 119), ('bad', 108), ('good', 103), ('little', 100), ('much', 93), ('funny', 69), ('big', 58), ('other', 53), ('few', 47), ('enough', 46)]\n",
      "3                                  [central, complex]\n",
      "5                               [Dodgy, cutesy, dark]\n",
      "6        [only, comedic, satirical, offbeat, musical]\n",
      "9                                          [plodding]\n",
      "14                                        [fantastic]\n",
      "                             ...                     \n",
      "11831                                              []\n",
      "11833                            [dramatic, artistic]\n",
      "11836                                     [tolerable]\n",
      "11837                                       [obvious]\n",
      "11838                                              []\n",
      "Name: words_adj, Length: 2240, dtype: object\n",
      "neutral [('good', 97), ('more', 60), ('little', 51), ('funny', 47), ('bad', 43), ('many', 40), ('other', 36), ('much', 36), ('big', 35), ('few', 35)]\n",
      "0                                             [most]\n",
      "1                                                 []\n",
      "7                       [good, good, old, fashioned]\n",
      "8        [beautiful, funny, overall, genial, decent]\n",
      "10                        [martial, kinetic, cranky]\n",
      "                            ...                     \n",
      "11826     [original, American, gorgeous, ramshackle]\n",
      "11830                                  [fascinating]\n",
      "11834                                             []\n",
      "11835                                             []\n",
      "11839                             [uplifting, funny]\n",
      "Name: words_adj, Length: 3108, dtype: object\n",
      "positive [('good', 183), ('funny', 93), ('little', 86), ('old', 59), ('more', 59), ('own', 57), ('great', 57), ('much', 50), ('real', 49), ('big', 48)]\n",
      "20                           [spectacular, most, animaton]\n",
      "21       [magnificent, aerial, breathtaking, overall, a...\n",
      "27                                   [constant, unhurried]\n",
      "42                                                  [Best]\n",
      "56                                                  [fine]\n",
      "                               ...                        \n",
      "11790              [autobiographical, gentle, bittersweet]\n",
      "11796              [wild, surreal, brilliant, next, other]\n",
      "11820                             [breezy, romantic, good]\n",
      "11841    [exhilarating, futuristic, best, riveting, pul...\n",
      "11843                                                   []\n",
      "Name: words_adj, Length: 1851, dtype: object\n",
      "very positive [('good', 158), ('funny', 89), ('great', 48), ('entertaining', 40), ('romantic', 34), ('first', 33), ('compelling', 29), ('new', 28), ('fascinating', 28), ('powerful', 27)]\n"
     ]
    },
    {
     "data": {
      "image/png": "[encoded data removed]",
      "text/plain": [
       "<Figure size 432x288 with 1 Axes>"
      ]
     },
     "metadata": {
      "needs_background": "light"
     },
     "output_type": "display_data"
    },
    {
     "data": {
      "image/png": "[encoded data removed]",
      "text/plain": [
       "<Figure size 432x288 with 1 Axes>"
      ]
     },
     "metadata": {
      "needs_background": "light"
     },
     "output_type": "display_data"
    },
    {
     "data": {
      "image/png": "[encoded data removed]",
      "text/plain": [
       "<Figure size 432x288 with 1 Axes>"
      ]
     },
     "metadata": {
      "needs_background": "light"
     },
     "output_type": "display_data"
    },
    {
     "data": {
      "image/png": "[encoded data removed]",
      "text/plain": [
       "<Figure size 432x288 with 1 Axes>"
      ]
     },
     "metadata": {
      "needs_background": "light"
     },
     "output_type": "display_data"
    },
    {
     "data": {
      "image/png": "[encoded data removed]",
      "text/plain": [
       "<Figure size 432x288 with 1 Axes>"
      ]
     },
     "metadata": {
      "needs_background": "light"
     },
     "output_type": "display_data"
    }
   ],
   "source": [
    "# Print the most common adjectives\n",
    "adj_count = dict()\n",
    "for id in label_id:\n",
    "    adj = df[df['label']==id]['words_adj']\n",
    "    print(adj)\n",
    "    adj = flatten(adj)\n",
    "    adj = mapl(lambda tok: tok.lemma_, adj)\n",
    "    adj_count[id] = Counter(adj).most_common(10)\n",
    "    print(label_id[id],adj_count[id])\n",
    "\n",
    "#Potting of all review types\n",
    "def plot_reviews(adj_count,reviewtype):\n",
    "    labels, values = zip(*adj_count)\n",
    "    indexes = np.arange(len(labels))\n",
    "\n",
    "    #sns.set(style=\"whitegrid\")\n",
    "    ax = sns.barplot(indexes, values, palette=\"BuGn_r\")\n",
    "\n",
    "    plt.xticks(indexes + 0.1, labels, rotation=30);\n",
    "    plt.tick_params(axis='x', labelsize=13)\n",
    "    plt.title(\"Most Common \"+str(reviewtype)+\" Adjectives in Reviews\")\n",
    "    plt.show()\n",
    "\n",
    "\n",
    "for id in label_id:\n",
    "    plot_reviews(adj_count[id],label_id[id])"
   ]
  },
  {
   "cell_type": "markdown",
   "metadata": {
    "colab_type": "text",
    "id": "-bSdME23cuyb"
   },
   "source": [
    "## Task1: Dataset Preparation"
   ]
  },
  {
   "cell_type": "markdown",
   "metadata": {},
   "source": [
    "If you want class-balancing for task 4.3, rerun this notebook with this cell enabled"
   ]
  },
  {
   "cell_type": "raw",
   "metadata": {},
   "source": [
    "minl = sum(df[\"label\"]==-2)\n",
    "subsamples = [df[df[\"label\"]==i][:minl] for i in range(-2, 3)]\n",
    "df = pd.concat(subsamples)\n",
    "df['label'].hist()\n",
    "\n",
    "X = np.array(df['text'])\n",
    "Y = np.array(df['label'])\n",
    "docl = list( nlp.pipe(X)) # create new smaller docl"
   ]
  },
  {
   "cell_type": "markdown",
   "metadata": {
    "colab_type": "text",
    "id": "HDGeVzJ2c9uy"
   },
   "source": [
    "### Preprocessing. \n",
    "***Apply cleaning, preprocessing, and tokenization to the text. Describe and justify the methods you used for each of these, and provide some examples.***\n",
    "\n",
    "Most of this is done by the en_core_web_sm piepline, that contains an english tokenizer, a tagger that cleans up unneccesary spaces, a parser and a named entity recognizer and has built in stopword detection.\n",
    "\n",
    "But we can improve it by adding NLTK stemming and building a custom dict."
   ]
  },
  {
   "cell_type": "markdown",
   "metadata": {
    "colab_type": "text",
    "id": "1NY91v4vqPK0"
   },
   "source": [
    "Stopwords - can be checked with tok.is_stop()"
   ]
  },
  {
   "cell_type": "code",
   "execution_count": 9,
   "metadata": {
    "colab": {
     "base_uri": "https://localhost:8080/",
     "height": 74
    },
    "colab_type": "code",
    "id": "L0arQqSEqJ9j",
    "outputId": "30098c7d-4f76-4ad6-e4ee-4d566cafc4c3"
   },
   "outputs": [
    {
     "name": "stdout",
     "output_type": "stream",
     "text": [
      "Adding nltk stopwords {'having', 'aren', 'isn', 'wouldn', 'mustn', \"mustn't\", 'didn', 've', 'mightn', 'y', 'hadn', \"she's\", \"hadn't\", 'needn', 'don', \"don't\", \"won't\", 'wasn', \"wouldn't\", \"mightn't\", \"haven't\", \"wasn't\", \"didn't\", 'couldn', 'shouldn', \"needn't\", 'hasn', 'ma', \"weren't\", \"couldn't\", 'doesn', 'ain', 't', 'won', 'd', \"you're\", 'm', \"you'd\", \"that'll\", \"doesn't\", 's', \"shouldn't\", \"aren't\", 'weren', \"isn't\", \"it's\", \"should've\", 'shan', \"shan't\", \"hasn't\", 'theirs', \"you've\", 'll', \"you'll\", 'haven', 'o'}\n",
      "Total list of stopwords 'd, 'll, 'm, 're, 's, 've, a, about, above, across, after, afterwards, again, against, ain, all, almost, alone, along, already, also, although, always, am, among, amongst, amount, an, and, another, any, anyhow, anyone, anything, anyway, anywhere, are, aren, aren't, around, as, at, back, be, became, because, become, becomes, becoming, been, before, beforehand, behind, being, below, beside, besides, between, beyond, both, bottom, but, by, ca, call, can, cannot, could, couldn, couldn't, d, did, didn, didn't, do, does, doesn, doesn't, doing, don, don't, done, down, due, during, each, eight, either, eleven, else, elsewhere, empty, enough, even, ever, every, everyone, everything, everywhere, except, few, fifteen, fifty, first, five, for, former, formerly, forty, four, from, front, full, further, get, give, go, had, hadn, hadn't, has, hasn, hasn't, have, haven, haven't, having, he, hence, her, here, hereafter, hereby, herein, hereupon, hers, herself, him, himself, his, how, however, hundred, i, if, in, indeed, into, is, isn, isn't, it, it's, its, itself, just, keep, last, latter, latterly, least, less, ll, m, ma, made, make, many, may, me, meanwhile, might, mightn, mightn't, mine, more, moreover, most, mostly, move, much, must, mustn, mustn't, my, myself, n't, name, namely, needn, needn't, neither, never, nevertheless, next, nine, no, nobody, none, noone, nor, not, nothing, now, nowhere, n‘t, n’t, o, of, off, often, on, once, one, only, onto, or, other, others, otherwise, our, ours, ourselves, out, over, own, part, per, perhaps, please, put, quite, rather, re, really, regarding, s, same, say, see, seem, seemed, seeming, seems, serious, several, shan, shan't, she, she's, should, should've, shouldn, shouldn't, show, side, since, six, sixty, so, some, somehow, someone, something, sometime, sometimes, somewhere, still, such, t, take, ten, than, that, that'll, the, their, theirs, them, themselves, then, thence, there, thereafter, thereby, therefore, therein, thereupon, these, they, third, this, those, though, three, through, throughout, thru, thus, to, together, too, top, toward, towards, twelve, twenty, two, under, unless, until, up, upon, us, used, using, various, ve, very, via, was, wasn, wasn't, we, well, were, weren, weren't, what, whatever, when, whence, whenever, where, whereafter, whereas, whereby, wherein, whereupon, wherever, whether, which, while, whither, who, whoever, whole, whom, whose, why, will, with, within, without, won, won't, would, wouldn, wouldn't, y, yet, you, you'd, you'll, you're, you've, your, yours, yourself, yourselves, ‘d, ‘ll, ‘m, ‘re, ‘s, ‘ve, ’d, ’ll, ’m, ’re, ’s, ’ve\n"
     ]
    }
   ],
   "source": [
    "# use spacy and nltk stopwords and put them into the default nlp stopword detector\n",
    "print(\"Adding nltk stopwords\", set(nltk.corpus.stopwords.words('english')).difference(nlp.Defaults.stop_words))\n",
    "nlp.Defaults.stop_words = nlp.Defaults.stop_words.union(nltk.corpus.stopwords.words('english')); \n",
    "print(\"Total list of stopwords\", \", \".join(sorted(nlp.Defaults.stop_words)))"
   ]
  },
  {
   "cell_type": "markdown",
   "metadata": {
    "colab_type": "text",
    "id": "fuGM-2zC4lFC"
   },
   "source": [
    "To add a custom stemmer, you can extend tokens with getters"
   ]
  },
  {
   "cell_type": "code",
   "execution_count": 10,
   "metadata": {
    "colab": {},
    "colab_type": "code",
    "id": "Ha0ScbQ2t9-k"
   },
   "outputs": [],
   "source": [
    "stem_function = PorterStemmer().stem\n",
    "Token.set_extension(\"stem\", getter=lambda tok: stem_function(tok.lemma_), force=True) # force=True to be able to rerun the line "
   ]
  },
  {
   "cell_type": "markdown",
   "metadata": {
    "colab_type": "text",
    "id": "CLIS9STY4wQy"
   },
   "source": [
    "Print 3 sentences with to show lemmatization, stemming, stopwords and more:"
   ]
  },
  {
   "cell_type": "code",
   "execution_count": 11,
   "metadata": {
    "colab": {
     "base_uri": "https://localhost:8080/",
     "height": 890
    },
    "colab_type": "code",
    "id": "tCpN9OAwgq-c",
    "outputId": "d1300dec-e7d1-4365-bb05-f277bd6bcb58"
   },
   "outputs": [
    {
     "name": "stdout",
     "output_type": "stream",
     "text": [
      "Word\tLemma\tStem\tstop\n",
      "Reno\tReno\treno\tFalse\n",
      "himself\t-PRON-\t-pron-\tTrue\n",
      "can\tcan\tcan\tTrue\n",
      "take\ttake\ttake\tTrue\n",
      "credit\tcredit\tcredit\tFalse\n",
      "for\tfor\tfor\tTrue\n",
      "most\tmost\tmost\tTrue\n",
      "of\tof\tof\tTrue\n",
      "the\tthe\tthe\tTrue\n",
      "movie\tmovie\tmovi\tFalse\n",
      "'s\t's\t's\tTrue\n",
      "success\tsuccess\tsuccess\tFalse\n",
      ".\t.\t.\tTrue\n",
      "\n",
      "Despite\tdespite\tdespit\tFalse\n",
      "the\tthe\tthe\tTrue\n",
      "film\tfilm\tfilm\tFalse\n",
      "'s\t's\t's\tTrue\n",
      "shortcomings\tshortcoming\tshortcom\tFalse\n",
      ",\t,\t,\tTrue\n",
      "the\tthe\tthe\tTrue\n",
      "stories\tstory\tstori\tFalse\n",
      "are\tbe\tbe\tTrue\n",
      "quietly\tquietly\tquietli\tFalse\n",
      "moving\tmove\tmove\tFalse\n",
      ".\t.\t.\tTrue\n",
      "\n",
      "Despite\tdespite\tdespit\tFalse\n",
      "its\t-PRON-\t-pron-\tTrue\n",
      "dry\tdry\tdri\tFalse\n",
      "wit\twit\twit\tFalse\n",
      "and\tand\tand\tTrue\n",
      "compassion\tcompassion\tcompass\tFalse\n",
      ",\t,\t,\tTrue\n",
      "the\tthe\tthe\tTrue\n",
      "film\tfilm\tfilm\tFalse\n",
      "suffers\tsuffer\tsuffer\tFalse\n",
      "from\tfrom\tfrom\tTrue\n",
      "a\ta\ta\tTrue\n",
      "philosophical\tphilosophical\tphilosoph\tFalse\n",
      "emptiness\temptiness\tempti\tFalse\n",
      "and\tand\tand\tTrue\n",
      "maddeningly\tmaddeningly\tmaddeningli\tFalse\n",
      "sedate\tsedate\tsedat\tFalse\n",
      "pacing\tpacing\tpace\tFalse\n",
      ".\t.\t.\tTrue\n",
      "\n"
     ]
    }
   ],
   "source": [
    "print(\"Word\\tLemma\\tStem\\tstop\")\n",
    "for d in docl[:3]:\n",
    "    for word in d:\n",
    "        print(word, word.lemma_, word._.stem, word.is_stop or word.is_punct, sep=\"\\t\")\n",
    "    print() # newline between sentences"
   ]
  },
  {
   "cell_type": "markdown",
   "metadata": {
    "colab_type": "text",
    "id": "sbJ3B4vsdFC5"
   },
   "source": [
    "### Creating a dictionary.\n",
    "***Using all the texts of the dataset, create a dictionary of vocabularies. Explain your criteria for building the dictionary such as the method to reduce the vocabulary size. Report the statistics of the dictionary.***\n",
    "\n",
    "To reduce the dict size we use lemmatization and stopword/punctuation removal. This leads to 250k -> 15k -> 12k vocabulary size."
   ]
  },
  {
   "cell_type": "code",
   "execution_count": 12,
   "metadata": {
    "colab": {
     "base_uri": "https://localhost:8080/",
     "height": 146
    },
    "colab_type": "code",
    "id": "rNmLjvOxdq31",
    "outputId": "8d9b9f42-e2e7-4780-a6c2-f662aa69c530"
   },
   "outputs": [
    {
     "name": "stdout",
     "output_type": "stream",
     "text": [
      "Size without any filtering/stemming 235066\n",
      "Examples [running, brutally, `, 're, ,, too, it, ideas, Francophiles, This, -, Nature, like, there, quite, Nothing, ,, like, big, Gloriously, incurably, or, ,, Fire, of, several, its, best, Weaver, in, worst, conditioning, and, A, intimate, pounds, is, dialogue, should, and, observe, of, are, the, it, love, n't, this, the, around]\n",
      "Size with lemmatization alone 15800\n",
      "Examples ['spectrum', 'dogged', 'Original', 'discouraging', 'scenario', 'pedestal', 'Collosum', 'litmus', 'simultaneously', 'Tolstoy', 'blisteringly', 'substantive', 'sampling', 'coast', 'just', 'efficient', 'wither', 'have', 'unease', 'dive', 'humourless', 'exhibit', 'clamor', 'labour', 'sure', 'southern', 'Dolby', 'focused', 'trumpet', 'nrelentingly', 'Cox', 'age', 'ferocious', 'pasta', 'delicately', 'contemptuous', 'Neil', 'backmasking', 'exit', 'Le', 'Orleans', 'monster\\\\/science', 'extraordinarily', 'forth', 'sized', 'conspicuously', 'relocate', 'Saldanha', 'courage', 'meld']\n",
      "Size with filtering/stemming 12060\n",
      "Examples ['spectrum', 'dogged', 'scenario', 'townsend', 'fantast', 'oeuvr', 'tinker', 'overdos', 'laps', 'coast', 'chan', 'pryor', 'westbrook', 'wither', 'have', 'dive', 'retribut', 'humourless', 'dey', 'exhibit', 'clamor', 'massoud', 'varsiti', 'cann', 'sure', 'labour', 'zhao', 'southern', 'stewart', 'trumpet', 'majorli', 'recogn', 'age', 'pasta', 'grotesqu', 'healthi', 'franchis', 'martyr', 'exit', 'crispli', 'Le', 'seriocom', 'forth', 'cruelli', 'meld', 'h', 'prod', 'hurri', 'engag', 'patholog']\n"
     ]
    }
   ],
   "source": [
    "vocab0 = set(flatten(docl))\n",
    "print(\"Size without any filtering/stemming\", len(vocab0))\n",
    "print(\"Examples\", list(vocab0)[:50])\n",
    "\n",
    "vocab1 = set(flatten([map(lambda tok: tok.lemma_, line) for line in docl]))\n",
    "print(\"Size with lemmatization alone\", len(vocab1))\n",
    "print(\"Examples\", list(vocab1)[:50])\n",
    "\n",
    "stemf = lambda tok: tok._.stem\n",
    "tokfilt = lambda tok: not tok.is_stop and not tok.is_punct\n",
    "\n",
    "stem_doc = [ mapl(stemf, # only use stem\n",
    "                  filter(tokfilt, line)) # filter out punctuation\n",
    "             for line in docl]\n",
    "vocab2 = set(flatten(stem_doc)) # make unique set out of list of list\n",
    "print(\"Size with filtering/stemming\", len(vocab2))\n",
    "print(\"Examples\", list(vocab2)[:50])"
   ]
  },
  {
   "cell_type": "markdown",
   "metadata": {
    "colab_type": "text",
    "id": "ht1jsb02dFR2"
   },
   "source": [
    "### Splitting the dataset. \n",
    "***Divide the dataset to train, validation, and test sets. Explain your method for splitting and report the size of each set.***"
   ]
  },
  {
   "cell_type": "code",
   "execution_count": 13,
   "metadata": {
    "colab": {
     "base_uri": "https://localhost:8080/",
     "height": 219
    },
    "colab_type": "code",
    "id": "ufW42nLFdwRf",
    "outputId": "5af5a50d-23aa-4b32-ecf1-4d97f294da9c"
   },
   "outputs": [
    {
     "name": "stdout",
     "output_type": "stream",
     "text": [
      "(-1, Care deftly captures the wonder and menace of growing up , but he never really embraces the joy of Fuhrman 's destructive escapism or the grace-in-rebellion found by his characters .)\n",
      "(0, ... Ice Age treads predictably along familiar territory , making it a passable family film that wo n't win many fans over the age of 12 .)\n",
      "(-1, Oft-described as the antidote to American Pie-type sex comedies , it actually has a bundle in common with them , as the film diffuses every opportunity for a breakthrough)\n",
      "(-2, Some writer dude , I think his name was , uh , Michael Zaidan , was supposed to have like written the screenplay or something , but , dude , the only thing that I ever saw that was written down were the zeroes on my paycheck .)\n",
      "(1, It has plenty of laughs .)\n",
      "(1, Grant carries the day with impeccable comic timing , raffish charm and piercing intellect .)\n",
      "(-1, When the fire burns out , we 've only come face-to-face with a couple dragons and that 's where the film ultimately fails .)\n",
      "(-2, It 's also curious to note that this film , like the similarly ill-timed Antitrust , is easily as bad at a fraction the budget .)\n",
      "(0, What can one say about a balding 50-year-old actor playing an innocent boy carved from a log ?)\n",
      "(2, In a way , the film feels like a breath of fresh air , but only to those that allow it in .)\n"
     ]
    }
   ],
   "source": [
    "text_train, text_test, label_train, label_test = train_test_split(docl,Y,test_size = 0.2,random_state = SEED)\n",
    "print(*zip(label_train[:10], text_train[:10]), sep=\"\\n\")"
   ]
  },
  {
   "cell_type": "markdown",
   "metadata": {
    "colab_type": "text",
    "id": "3AIVztgFdsdZ"
   },
   "source": [
    "## Task2: Feature Extraction"
   ]
  },
  {
   "cell_type": "markdown",
   "metadata": {
    "colab_type": "text",
    "id": "ZmyQDsyyd6Rd"
   },
   "source": [
    "### Creating sentence vectors. \n",
    "***Creating sentence vectors. Given the dictionary, prepare two variations of the representation vectors for each sentence. Each variation should be based on a term weighting method. Report the applied approaches. What percentage of the vectors of all the sentences are filled with zero values (sparsity rate)?***\n",
    "\n",
    "We are using [TF-IDF (Term-Frequency, Inverse-Document-Frequency)](https://en.wikipedia.org/wiki/Tf%E2%80%93idf) appraoch which includes the term and document frequencies for term weighting. \n",
    "\n",
    "Our 2nd approach is the spacy builtin [word2vec](https://en.wikipedia.org/wiki/Word2vec) which only has implicit pretrained weighting. \n"
   ]
  },
  {
   "cell_type": "markdown",
   "metadata": {
    "colab_type": "text",
    "id": "CUCio4_OcPgo"
   },
   "source": [
    "**word-ids**"
   ]
  },
  {
   "cell_type": "code",
   "execution_count": 14,
   "metadata": {
    "colab": {},
    "colab_type": "code",
    "id": "nE72vONDcTRP"
   },
   "outputs": [],
   "source": [
    "sec2vec = {word:i for i,word in enumerate(vocab0)}"
   ]
  },
  {
   "cell_type": "markdown",
   "metadata": {
    "colab_type": "text",
    "id": "88OujLDWcKNF"
   },
   "source": [
    "### TF-idf with scikit learn"
   ]
  },
  {
   "cell_type": "code",
   "execution_count": 15,
   "metadata": {
    "colab": {
     "base_uri": "https://localhost:8080/",
     "height": 290
    },
    "colab_type": "code",
    "id": "TpuAJ33UeGOk",
    "outputId": "a5ae6c97-bff6-4aa9-fcc0-55af44076961"
   },
   "outputs": [
    {
     "name": "stdout",
     "output_type": "stream",
     "text": [
      "TfidfVectorizer(analyzer='word', binary=False, decode_error='strict',\n",
      "                dtype=<class 'numpy.float64'>, encoding='utf-8',\n",
      "                input='content', lowercase=False, max_df=1.0, max_features=None,\n",
      "                min_df=1, ngram_range=(1, 1), norm='l2', preprocessor=None,\n",
      "                smooth_idf=True, stop_words=None, strip_accents=None,\n",
      "                sublinear_tf=False, token_pattern='(?u)\\\\b\\\\w\\\\w+\\\\b',\n",
      "                tokenizer=<function <lambda> at 0x7fe8e1743940>, use_idf=True,\n",
      "                vocabulary={'$', '+', '-pron-', '007', '1', '1.2', '1.8', '10',\n",
      "                            '10,000', '10-cours', '10-inch', '10-year', '100',\n",
      "                            '100-minut', '100-year', '101', '102-minut',\n",
      "                            '103-minut', '104', '105', '10th', '11', '11-year',\n",
      "                            '110', '112-minut', '117', '11th', '12', '12-step',\n",
      "                            '12-year', ...})\n"
     ]
    },
    {
     "data": {
      "text/plain": [
       "<11844x12060 sparse matrix of type '<class 'numpy.float64'>'\n",
       "\twith 101222 stored elements in Compressed Sparse Row format>"
      ]
     },
     "execution_count": 15,
     "metadata": {},
     "output_type": "execute_result"
    }
   ],
   "source": [
    "# as our data is already tokenized, we can skip tokenization by setting the tokenizer to the identity function and skipping lowercase\n",
    "tfvectorizer = TfidfVectorizer(vocabulary=vocab2, tokenizer=lambda x: x, lowercase=False);\n",
    "tfdoc = tfvectorizer.fit_transform(stem_doc)\n",
    "print(tfvectorizer); tfdoc"
   ]
  },
  {
   "cell_type": "code",
   "execution_count": 16,
   "metadata": {
    "colab": {
     "base_uri": "https://localhost:8080/",
     "height": 35
    },
    "colab_type": "code",
    "id": "c8ajLBj7aHNv",
    "outputId": "c7e7f0a3-0db6-40c3-afcd-c3c01af14752"
   },
   "outputs": [
    {
     "name": "stdout",
     "output_type": "stream",
     "text": [
      "The sparcity rate (rate of emtpy elements) is 99.9291354216198 %\n"
     ]
    }
   ],
   "source": [
    "print(\"The sparcity rate (rate of emtpy elements) is\", 100*(1 - len(tfdoc.nonzero()[0])/np.prod(tfdoc.shape)), \"%\")"
   ]
  },
  {
   "cell_type": "markdown",
   "metadata": {
    "colab_type": "text",
    "id": "_Q8mXs4pb7id"
   },
   "source": [
    "As this array is 11844x12081, you can't use PCA which is why we can only use TruncatedSVD"
   ]
  },
  {
   "cell_type": "markdown",
   "metadata": {
    "colab_type": "text",
    "id": "L8XvHILXXw5o"
   },
   "source": [
    "### Word2Vec with spacy\n",
    "Spacy also offers a built in word2vec in all models bigger than small, and word2vec is the state of the art for text vectorization. The vec size is 96\n"
   ]
  },
  {
   "cell_type": "code",
   "execution_count": 17,
   "metadata": {
    "colab": {
     "base_uri": "https://localhost:8080/",
     "height": 35
    },
    "colab_type": "code",
    "id": "YdIk3rwFXv1w",
    "outputId": "e653288d-a582-48cc-8e94-7cd8b7484637"
   },
   "outputs": [
    {
     "data": {
      "text/plain": [
       "(11844, 300)"
      ]
     },
     "execution_count": 17,
     "metadata": {},
     "output_type": "execute_result"
    }
   ],
   "source": [
    "w2v = np.array(mapl(lambda tok: tok.vector, docl)); w2v.shape"
   ]
  },
  {
   "cell_type": "markdown",
   "metadata": {
    "colab_type": "text",
    "id": "jyaEcfe8d-lJ"
   },
   "source": [
    "### Dimensionality reduction. \n",
    "***Apply a dimensionality reduction algorithm to the sentence vectors to reduce their size to k dimensions.***\n"
   ]
  },
  {
   "cell_type": "code",
   "execution_count": 18,
   "metadata": {
    "colab": {},
    "colab_type": "code",
    "id": "B5LsYcGWcpMV"
   },
   "outputs": [],
   "source": [
    "tf_20 = TruncatedSVD(n_components=20).fit_transform(tfdoc)\n",
    "w2v_20 = PCA(n_components=20).fit_transform(w2v)"
   ]
  },
  {
   "cell_type": "markdown",
   "metadata": {
    "colab_type": "text",
    "id": "asFqSrb8eP9t"
   },
   "source": [
    "## Task3: Classification"
   ]
  },
  {
   "cell_type": "markdown",
   "metadata": {
    "colab_type": "text",
    "id": "B53Lx24IeR-s"
   },
   "source": [
    "### Training classifiers. \n",
    "***Select at least three classification algorithms to create machine learning models. Using either of the variations of the sentence vectors, train a classification model for each classification algorithm. This should result in six classification models (two variations of sentence vectors × three classification algorithms). For each model, consider at least five different sets of hyper-parameters’ values. These hyper-parameters include the ones of the classifier, but also the dimensionality size k. Tune these hyper-parameters during the training of each model. Report the process of hyper-parameter tuning, and the selected hyper-parameters’ values for each model. Evaluate the models using the accuracy metric***"
   ]
  },
  {
   "cell_type": "code",
   "execution_count": 19,
   "metadata": {
    "colab": {},
    "colab_type": "code",
    "id": "krQkMCQuHGLa"
   },
   "outputs": [],
   "source": [
    "def train(clf,x_train,y_train,hyperparameter):\n",
    "    \"\"\"\n",
    "    clf: The specified model\n",
    "    x_train:The sentence vector from the training dataset\n",
    "    y_train:The corresponding labels from the training dataset\n",
    "    hyperparameter:Dictionary with parameters names (string) as keys and lists of parameter settings to try as values.\n",
    "    \"\"\"\n",
    "    classifier = GridSearchCV(clf, hyperparameter,n_jobs=8,cv=10)\n",
    "    grid_result = classifier.fit(x_train,y_train)\n",
    "    print('Score: ',grid_result.best_score_)\n",
    "    return grid_result.best_estimator_"
   ]
  },
  {
   "cell_type": "code",
   "execution_count": 20,
   "metadata": {
    "colab": {
     "base_uri": "https://localhost:8080/",
     "height": 35
    },
    "colab_type": "code",
    "id": "_WutqH2Guec6",
    "outputId": "2ff6ea4b-74b7-4875-ccb3-e1aea3fcd2c7"
   },
   "outputs": [
    {
     "name": "stdout",
     "output_type": "stream",
     "text": [
      "Baseline =  0.2648598446470787\n"
     ]
    }
   ],
   "source": [
    "print('Baseline = ',max(list(Counter(Y).values()))/sum(list(Counter(Y).values())))"
   ]
  },
  {
   "cell_type": "markdown",
   "metadata": {
    "colab_type": "text",
    "id": "fdbO5AZ_wREq"
   },
   "source": [
    "**Classifers**"
   ]
  },
  {
   "cell_type": "code",
   "execution_count": 21,
   "metadata": {
    "colab": {},
    "colab_type": "code",
    "id": "ty_ZOXNkB6KB"
   },
   "outputs": [],
   "source": [
    "names = ['Gradient boosting','Random Forest','Linear Support vector','SGD Classifier']\n",
    "model_list = [GradientBoostingClassifier(),RandomForestClassifier(),LinearSVC(),SGDClassifier()]\n",
    "hyperparameters = [{'learning_rate':[0.1,0.01,0.001]}, \n",
    "                   {'n_estimators':[100,1000],'random_state':[42],'class_weight':(\"balanced\",None)},\n",
    "                   {'loss':('hinge','squared_hinge'),'C':[1.0,8.0,10.0],'random_state':[42]},\n",
    "                   {'loss':('hinge','squared_epsilon_insensitive'),'epsilon':[0.1,0.25,0.01]}]"
   ]
  },
  {
   "cell_type": "markdown",
   "metadata": {
    "colab_type": "text",
    "id": "FwH_LWdQe2Rj"
   },
   "source": [
    "### Results and comparison. \n",
    "Report the evaluation results of the models on both validation and test sets in a table. Compare different models, and conclude the best performing approach on the dataset."
   ]
  },
  {
   "cell_type": "code",
   "execution_count": 22,
   "metadata": {
    "colab": {
     "base_uri": "https://localhost:8080/",
     "height": 459,
     "referenced_widgets": [
      "cf20713d6d5b475c94cd08ccc8c334f0",
      "eaf50e9f64714bde9669d355d789122f",
      "1717f15018f541078076a4bff97a0cba",
      "d5ecef9880bb4cc69af25cdc91f19fcf",
      "697c652d864f4b0494b97f604c96bd89",
      "8af81d353c45443290fa6c3a36356bac",
      "7792ec1821b74ce39419e8f90bee6d4f",
      "1299c68936af46f3b78ac1520ceb2397",
      "9190d69ab6c9478797f5144c34242ebd",
      "8ed1389830924befabdd65210ee301b4",
      "0f00aa6cb3474d58a34218ab26d0316d",
      "36f2a940988245669c9e5d570fb42377",
      "939436f9c67e4ba39718cf42c077a5d6",
      "b4a8964dc81a45fd81ce6db9d93f25b2",
      "cd10f63e4ff54570af1ab9f640be1d36",
      "9782f5302572480f9901ca791b841f05"
     ]
    },
    "colab_type": "code",
    "id": "GThjff0y_eG4",
    "outputId": "e5db70f5-1d8a-413b-ee81-197216762e89"
   },
   "outputs": [
    {
     "name": "stdout",
     "output_type": "stream",
     "text": [
      "Sentence Vector tf-id\n",
      "classifier =  Gradient boosting\n",
      "Score:  0.33047493403693934\n",
      "finished training\n",
      "classifier =  Random Forest\n"
     ]
    },
    {
     "name": "stderr",
     "output_type": "stream",
     "text": [
      "/usr/lib/python3.8/site-packages/joblib/externals/loky/process_executor.py:703: UserWarning: A worker stopped while some jobs were given to the executor. This can be caused by a too short worker timeout or by a memory leak.\n",
      "  warnings.warn(\n"
     ]
    },
    {
     "name": "stdout",
     "output_type": "stream",
     "text": [
      "Score:  0.3092348284960423\n",
      "finished training\n",
      "classifier =  Linear Support vector\n",
      "Score:  0.31965699208443277\n",
      "finished training\n",
      "classifier =  SGD Classifier\n",
      "Score:  0.3006596306068602\n",
      "finished training\n",
      "Sentence Vector word2vec\n",
      "classifier =  Gradient boosting\n",
      "Score:  0.3804749340369393\n",
      "finished training\n",
      "classifier =  Random Forest\n"
     ]
    },
    {
     "name": "stderr",
     "output_type": "stream",
     "text": [
      "/usr/lib/python3.8/site-packages/joblib/externals/loky/process_executor.py:703: UserWarning: A worker stopped while some jobs were given to the executor. This can be caused by a too short worker timeout or by a memory leak.\n",
      "  warnings.warn(\n"
     ]
    },
    {
     "name": "stdout",
     "output_type": "stream",
     "text": [
      "Score:  0.3889182058047493\n",
      "finished training\n",
      "classifier =  Linear Support vector\n"
     ]
    },
    {
     "name": "stderr",
     "output_type": "stream",
     "text": [
      "/usr/lib/python3.8/site-packages/sklearn/svm/_base.py:946: ConvergenceWarning: Liblinear failed to converge, increase the number of iterations.\n",
      "  warnings.warn(\"Liblinear failed to converge, increase \"\n"
     ]
    },
    {
     "name": "stdout",
     "output_type": "stream",
     "text": [
      "Score:  0.40382585751978894\n",
      "finished training\n",
      "classifier =  SGD Classifier\n",
      "Score:  0.3606860158311346\n",
      "finished training\n"
     ]
    },
    {
     "data": {
      "text/html": [
       "<div>\n",
       "<style scoped>\n",
       "    .dataframe tbody tr th:only-of-type {\n",
       "        vertical-align: middle;\n",
       "    }\n",
       "\n",
       "    .dataframe tbody tr th {\n",
       "        vertical-align: top;\n",
       "    }\n",
       "\n",
       "    .dataframe thead th {\n",
       "        text-align: right;\n",
       "    }\n",
       "</style>\n",
       "<table border=\"1\" class=\"dataframe\">\n",
       "  <thead>\n",
       "    <tr style=\"text-align: right;\">\n",
       "      <th></th>\n",
       "      <th>Model</th>\n",
       "      <th>sentence vector</th>\n",
       "      <th>Validation Accuracy</th>\n",
       "      <th>Test Accuracy</th>\n",
       "    </tr>\n",
       "  </thead>\n",
       "  <tbody>\n",
       "    <tr>\n",
       "      <th>0</th>\n",
       "      <td>GradientBoostingClassifier(ccp_alpha=0.0, crit...</td>\n",
       "      <td>tf-id</td>\n",
       "      <td>0.342480</td>\n",
       "      <td>0.325454</td>\n",
       "    </tr>\n",
       "    <tr>\n",
       "      <th>1</th>\n",
       "      <td>RandomForestClassifier(bootstrap=True, ccp_alp...</td>\n",
       "      <td>tf-id</td>\n",
       "      <td>0.315567</td>\n",
       "      <td>0.316167</td>\n",
       "    </tr>\n",
       "    <tr>\n",
       "      <th>2</th>\n",
       "      <td>LinearSVC(C=1.0, class_weight=None, dual=True,...</td>\n",
       "      <td>tf-id</td>\n",
       "      <td>0.327704</td>\n",
       "      <td>0.301393</td>\n",
       "    </tr>\n",
       "    <tr>\n",
       "      <th>3</th>\n",
       "      <td>SGDClassifier(alpha=0.0001, average=False, cla...</td>\n",
       "      <td>tf-id</td>\n",
       "      <td>0.305541</td>\n",
       "      <td>0.305192</td>\n",
       "    </tr>\n",
       "    <tr>\n",
       "      <th>4</th>\n",
       "      <td>GradientBoostingClassifier(ccp_alpha=0.0, crit...</td>\n",
       "      <td>word2vec</td>\n",
       "      <td>0.400528</td>\n",
       "      <td>0.373997</td>\n",
       "    </tr>\n",
       "    <tr>\n",
       "      <th>5</th>\n",
       "      <td>RandomForestClassifier(bootstrap=True, ccp_alp...</td>\n",
       "      <td>word2vec</td>\n",
       "      <td>0.407388</td>\n",
       "      <td>0.377374</td>\n",
       "    </tr>\n",
       "    <tr>\n",
       "      <th>6</th>\n",
       "      <td>LinearSVC(C=1.0, class_weight=None, dual=True,...</td>\n",
       "      <td>word2vec</td>\n",
       "      <td>0.418997</td>\n",
       "      <td>0.400169</td>\n",
       "    </tr>\n",
       "    <tr>\n",
       "      <th>7</th>\n",
       "      <td>SGDClassifier(alpha=0.0001, average=False, cla...</td>\n",
       "      <td>word2vec</td>\n",
       "      <td>0.387863</td>\n",
       "      <td>0.368510</td>\n",
       "    </tr>\n",
       "  </tbody>\n",
       "</table>\n",
       "</div>"
      ],
      "text/plain": [
       "                                               Model sentence vector  \\\n",
       "0  GradientBoostingClassifier(ccp_alpha=0.0, crit...           tf-id   \n",
       "1  RandomForestClassifier(bootstrap=True, ccp_alp...           tf-id   \n",
       "2  LinearSVC(C=1.0, class_weight=None, dual=True,...           tf-id   \n",
       "3  SGDClassifier(alpha=0.0001, average=False, cla...           tf-id   \n",
       "4  GradientBoostingClassifier(ccp_alpha=0.0, crit...        word2vec   \n",
       "5  RandomForestClassifier(bootstrap=True, ccp_alp...        word2vec   \n",
       "6  LinearSVC(C=1.0, class_weight=None, dual=True,...        word2vec   \n",
       "7  SGDClassifier(alpha=0.0001, average=False, cla...        word2vec   \n",
       "\n",
       "   Validation Accuracy   Test Accuracy  \n",
       "0              0.342480       0.325454  \n",
       "1              0.315567       0.316167  \n",
       "2              0.327704       0.301393  \n",
       "3              0.305541       0.305192  \n",
       "4              0.400528       0.373997  \n",
       "5              0.407388       0.377374  \n",
       "6              0.418997       0.400169  \n",
       "7              0.387863       0.368510  "
      ]
     },
     "execution_count": 22,
     "metadata": {},
     "output_type": "execute_result"
    }
   ],
   "source": [
    "def scores(clf, X_val, y_val,X_test,y_test):\n",
    "    \"\"\"\n",
    "    Input:\n",
    "        clf: The model\n",
    "        X_val:The sentence vector from the validation dataset\n",
    "        y_val: The corresponding labels from the validation dataset\n",
    "        X_test:The sentence vector from the test dataset\n",
    "        y_test:The corresponding labels from the test dataset\n",
    "    Output:\n",
    "        acc_val: Accuracy for the validation set\n",
    "        acc_test: Accuracy for the test set \n",
    "        conf_mat: Confusion matrix for the validation set\n",
    "        conf_mat_test: confusion matrix for the test set \n",
    "    \"\"\"\n",
    "    confidence = clf.score(X_val,y_val)\n",
    "    y_pred = clf.predict(X_val)\n",
    "    acc_val = accuracy_score(y_val, y_pred)\n",
    "    conf_mat = confusion_matrix(y_val, y_pred)\n",
    "    test_labels_pred = clf.predict(X_test)\n",
    "    acc_test = accuracy_score(y_test, test_labels_pred)\n",
    "    conf_mat_test = confusion_matrix(y_test, test_labels_pred)\n",
    "    return acc_val,acc_test,conf_mat,conf_mat_test\n",
    "\n",
    "def evaluate(model_list,vectors,hyperparameters,names):\n",
    "    \"\"\"\n",
    "    Input:\n",
    "        model_list: A list which contains all initilized models\n",
    "        vectors: A dictionary which contains the name of the sentence vector as keys and sentence vector variable as a value\n",
    "        hyperparameters: A list of dictionaries that contain the parameters for each model \n",
    "        names: A list containg the names of the models as strings\n",
    "    Output:\n",
    "        table: pandas dataframe which displays the classifers the corrresp[onding sentence vectors and how they performed\n",
    "        conf_list: A list which contains the corresponding confusion matrix for each classifier\n",
    "    \"\"\"\n",
    "    test_acc_list = []\n",
    "    val_acc_list=[]\n",
    "    sentence_vector_list = []\n",
    "    conf_list = []\n",
    "    name_list = []\n",
    "    for key in vectors.keys():\n",
    "        i=0\n",
    "        print('Sentence Vector',key)\n",
    "        x_train,x_test,y_train,y_test = train_test_split(vectors[key],Y,test_size=.2,random_state=42)\n",
    "        x_train,x_val,y_train,y_val = train_test_split(x_train,y_train,test_size=.2,random_state=42)\n",
    "        for model in model_list:\n",
    "            print('classifier = ',names[i])\n",
    "            clf = train(model,x_train,y_train,hyperparameters[i])\n",
    "            #print('finished training')\n",
    "            val_acc,test_acc,conf_val,conf_test= scores(clf,x_val,y_val,x_test,y_test)\n",
    "            test_acc_list.append(test_acc)\n",
    "            val_acc_list.append(val_acc)\n",
    "            sentence_vector_list.append(key)\n",
    "            name_list.append(names[i])\n",
    "            conf_list.append((conf_val,conf_test))\n",
    "            i+=1\n",
    "    table = pd.DataFrame({'Model':model_list+model_list,\n",
    "                    'sentence vector':sentence_vector_list,\n",
    "                    'Validation Accuracy ':val_acc_list,\n",
    "                    'Test Accuracy':test_acc_list})\n",
    "\n",
    "    return table, conf_list\n",
    "\n",
    "vectors = {'tf-id':tf_20,'word2vec':w2v_20}\n",
    "result, conf_list= evaluate(model_list,vectors,hyperparameters,names)\n",
    "result"
   ]
  },
  {
   "cell_type": "code",
   "execution_count": 23,
   "metadata": {
    "colab": {},
    "colab_type": "code",
    "id": "WHHKyQ_0-Iyf"
   },
   "outputs": [
    {
     "name": "stdout",
     "output_type": "stream",
     "text": [
      "8\n"
     ]
    },
    {
     "data": {
      "image/png": "[encoded data removed]",
      "text/plain": [
       "<Figure size 288x288 with 2 Axes>"
      ]
     },
     "metadata": {
      "needs_background": "light"
     },
     "output_type": "display_data"
    },
    {
     "data": {
      "image/png": "[encoded data removed]",
      "text/plain": [
       "<Figure size 288x288 with 2 Axes>"
      ]
     },
     "metadata": {
      "needs_background": "light"
     },
     "output_type": "display_data"
    }
   ],
   "source": [
    "def plot_confusion_matrix(num_classifer,conf_list):\n",
    "    \"\"\"\n",
    "    Input:\n",
    "        num_classifer: The classifer which we want to see the confusion matrix of\n",
    "        conf_list: A list of confusion matrices corresponding to each classifier in the table above\n",
    "    Output:\n",
    "        Two confusion matrix plots of both the validation dataset and the test dataset \n",
    "    \"\"\"\n",
    "    conf_mat, conf_mat_test = conf_list[num_classifer]\n",
    "    for name, data in [(\"Validation Data\", conf_mat), (\"Test data\", conf_mat_test)]:\n",
    "        # Plot Confusion Matrix Data as a Matrix\n",
    "        plt.matshow(data)\n",
    "        plt.title('Confusion Matrix for '+name)\n",
    "        plt.colorbar()\n",
    "        plt.ylabel('True label')\n",
    "        plt.xlabel('Predicted label')\n",
    "        plt.show()\n",
    "print(len(conf_list))\n",
    "plot_confusion_matrix(6,conf_list) # Plots the confusion matrix of the best model based on the test accuracy score shown above"
   ]
  },
  {
   "cell_type": "markdown",
   "metadata": {},
   "source": [
    "### Summary Findings: Explanation of behaviour\n",
    "Looking at the matrix above and the results table in the Results and comparison section, we can see that the accuracy scores that we got when evaluating the model are due to our model focusing on two classes mainly out of the 5 classes in this dataset. We can see that our model predicts the best on class 1(negative) and class 3 (positive) best. This performance can be due to many factors that include the data distribution and the vocabulary in the specific classes. As shown during our Data exploration section of our notebook there are many overlapping words between the classes which further contributed to the accuracy score that we got for this task. Furthermore we can also see that the model somewhat performs well on class 4 also (very positive) which again could be due to the overlap in features between the classes.  The model doesnt perform so well in predicting coirrectly for the class 0 and 2 which are very negative and neutral respectively, which could be due to the vocab in these classes doesn't occur enough in the samples or they include characteristucs like sarcasm which is not easy to detect."
   ]
  },
  {
   "cell_type": "markdown",
   "metadata": {
    "colab_type": "text",
    "id": "Bq6p8gJfsWFU"
   },
   "source": [
    "## **Task4 (optional): Visualization and Analysis**"
   ]
  },
  {
   "cell_type": "markdown",
   "metadata": {
    "colab_type": "text",
    "id": "WWJo5ljosdw8"
   },
   "source": [
    "***Feel free to follow any idea/question that provides more insights on experiments. For instance,\n",
    "what is the effect of various components, namely preprocessing methods, dimensionality reduction,\n",
    "and classification algorithms, on the effectiveness of the classifier? Provide visualizations of the\n",
    "sentence representations, and compare the plots of the representations with the predicted versus\n",
    "correct labels.***"
   ]
  },
  {
   "cell_type": "markdown",
   "metadata": {},
   "source": [
    "### Questions\n",
    "We want to find out two things about our preprocessing:\n",
    "1. Does the stemming + lemmatization preprocessing (used with TF-IDF) actually help?\n",
    "2. Does applying PCA to to our word2vec help?\n",
    "3. Would balacing the classes help?"
   ]
  },
  {
   "cell_type": "code",
   "execution_count": 24,
   "metadata": {
    "scrolled": false
   },
   "outputs": [
    {
     "name": "stderr",
     "output_type": "stream",
     "text": [
      "/usr/lib/python3.8/site-packages/sklearn/decomposition/_truncated_svd.py:194: RuntimeWarning: invalid value encountered in true_divide\n",
      "  self.explained_variance_ratio_ = exp_var / full_var\n"
     ]
    },
    {
     "name": "stdout",
     "output_type": "stream",
     "text": [
      "Sentence Vector tf-id\n",
      "classifier =  Gradient boosting\n",
      "Score:  0.26503957783641163\n",
      "finished training\n",
      "classifier =  Random Forest\n",
      "Score:  0.26503957783641163\n",
      "finished training\n",
      "classifier =  Linear Support vector\n",
      "Score:  0.26503957783641163\n",
      "finished training\n",
      "classifier =  SGD Classifier\n",
      "Score:  0.25620052770448554\n",
      "finished training\n",
      "Sentence Vector word2vec\n",
      "classifier =  Gradient boosting\n",
      "Score:  0.40633245382585753\n",
      "finished training\n",
      "classifier =  Random Forest\n"
     ]
    },
    {
     "name": "stderr",
     "output_type": "stream",
     "text": [
      "/usr/lib/python3.8/site-packages/joblib/externals/loky/process_executor.py:703: UserWarning: A worker stopped while some jobs were given to the executor. This can be caused by a too short worker timeout or by a memory leak.\n",
      "  warnings.warn(\n"
     ]
    },
    {
     "name": "stdout",
     "output_type": "stream",
     "text": [
      "Score:  0.4050131926121372\n",
      "finished training\n",
      "classifier =  Linear Support vector\n",
      "Score:  0.4183377308707124\n",
      "finished training\n",
      "classifier =  SGD Classifier\n",
      "Score:  0.3981530343007916\n",
      "finished training\n"
     ]
    },
    {
     "data": {
      "text/html": [
       "<div>\n",
       "<style scoped>\n",
       "    .dataframe tbody tr th:only-of-type {\n",
       "        vertical-align: middle;\n",
       "    }\n",
       "\n",
       "    .dataframe tbody tr th {\n",
       "        vertical-align: top;\n",
       "    }\n",
       "\n",
       "    .dataframe thead th {\n",
       "        text-align: right;\n",
       "    }\n",
       "</style>\n",
       "<table border=\"1\" class=\"dataframe\">\n",
       "  <thead>\n",
       "    <tr style=\"text-align: right;\">\n",
       "      <th></th>\n",
       "      <th>Model</th>\n",
       "      <th>sentence vector</th>\n",
       "      <th>Validation Accuracy</th>\n",
       "      <th>Test Accuracy</th>\n",
       "    </tr>\n",
       "  </thead>\n",
       "  <tbody>\n",
       "    <tr>\n",
       "      <th>0</th>\n",
       "      <td>GradientBoostingClassifier(ccp_alpha=0.0, crit...</td>\n",
       "      <td>tf-id</td>\n",
       "      <td>0.261741</td>\n",
       "      <td>0.266779</td>\n",
       "    </tr>\n",
       "    <tr>\n",
       "      <th>1</th>\n",
       "      <td>RandomForestClassifier(bootstrap=True, ccp_alp...</td>\n",
       "      <td>tf-id</td>\n",
       "      <td>0.261741</td>\n",
       "      <td>0.266779</td>\n",
       "    </tr>\n",
       "    <tr>\n",
       "      <th>2</th>\n",
       "      <td>LinearSVC(C=1.0, class_weight=None, dual=True,...</td>\n",
       "      <td>tf-id</td>\n",
       "      <td>0.261741</td>\n",
       "      <td>0.266779</td>\n",
       "    </tr>\n",
       "    <tr>\n",
       "      <th>3</th>\n",
       "      <td>SGDClassifier(alpha=0.0001, average=False, cla...</td>\n",
       "      <td>tf-id</td>\n",
       "      <td>0.261741</td>\n",
       "      <td>0.261714</td>\n",
       "    </tr>\n",
       "    <tr>\n",
       "      <th>4</th>\n",
       "      <td>GradientBoostingClassifier(ccp_alpha=0.0, crit...</td>\n",
       "      <td>word2vec</td>\n",
       "      <td>0.424274</td>\n",
       "      <td>0.406079</td>\n",
       "    </tr>\n",
       "    <tr>\n",
       "      <th>5</th>\n",
       "      <td>RandomForestClassifier(bootstrap=True, ccp_alp...</td>\n",
       "      <td>word2vec</td>\n",
       "      <td>0.420053</td>\n",
       "      <td>0.416631</td>\n",
       "    </tr>\n",
       "    <tr>\n",
       "      <th>6</th>\n",
       "      <td>LinearSVC(C=1.0, class_weight=None, dual=True,...</td>\n",
       "      <td>word2vec</td>\n",
       "      <td>0.419525</td>\n",
       "      <td>0.414099</td>\n",
       "    </tr>\n",
       "    <tr>\n",
       "      <th>7</th>\n",
       "      <td>SGDClassifier(alpha=0.0001, average=False, cla...</td>\n",
       "      <td>word2vec</td>\n",
       "      <td>0.387335</td>\n",
       "      <td>0.377797</td>\n",
       "    </tr>\n",
       "  </tbody>\n",
       "</table>\n",
       "</div>"
      ],
      "text/plain": [
       "                                               Model sentence vector  \\\n",
       "0  GradientBoostingClassifier(ccp_alpha=0.0, crit...           tf-id   \n",
       "1  RandomForestClassifier(bootstrap=True, ccp_alp...           tf-id   \n",
       "2  LinearSVC(C=1.0, class_weight=None, dual=True,...           tf-id   \n",
       "3  SGDClassifier(alpha=0.0001, average=False, cla...           tf-id   \n",
       "4  GradientBoostingClassifier(ccp_alpha=0.0, crit...        word2vec   \n",
       "5  RandomForestClassifier(bootstrap=True, ccp_alp...        word2vec   \n",
       "6  LinearSVC(C=1.0, class_weight=None, dual=True,...        word2vec   \n",
       "7  SGDClassifier(alpha=0.0001, average=False, cla...        word2vec   \n",
       "\n",
       "   Validation Accuracy   Test Accuracy  \n",
       "0              0.261741       0.266779  \n",
       "1              0.261741       0.266779  \n",
       "2              0.261741       0.266779  \n",
       "3              0.261741       0.261714  \n",
       "4              0.424274       0.406079  \n",
       "5              0.420053       0.416631  \n",
       "6              0.419525       0.414099  \n",
       "7              0.387335       0.377797  "
      ]
     },
     "execution_count": 24,
     "metadata": {},
     "output_type": "execute_result"
    }
   ],
   "source": [
    "#tF_idf + random forest, trying some other preprocessing like the none-preprocessing\n",
    "tfvectorizer = TfidfVectorizer(vocabulary=vocab0, tokenizer=lambda x: x, lowercase=False)\n",
    "tfdoc = tfvectorizer.fit_transform(stem_doc)\n",
    "tf_20 = TruncatedSVD(n_components=20).fit_transform(tfdoc)\n",
    "\n",
    "# word2vec, if it performs differently if we don't PCA it in between\n",
    "names = ['Gradient boosting','Random Forest','Linear Support vector','SGD Classifier']\n",
    "model_list = [GradientBoostingClassifier(),RandomForestClassifier(),LinearSVC(),SGDClassifier()]\n",
    "hyperparameters = [{'learning_rate':[0.1,0.01,0.001]},\n",
    "                   {'n_estimators':[100,1000],'random_state':[42],'class_weight':(\"balanced\",None)},\n",
    "                   {'loss':('hinge','squared_hinge'),'C':[1.0,8.0,10.0],'random_state':[42]},\n",
    "                   {'loss':('hinge','squared_epsilon_insensitive'),'epsilon':[0.1,0.25,0.01]}]\n",
    "\n",
    "vectors = {'tf-id':tf_20,'word2vec':w2v}\n",
    "result,conf_list= evaluate(model_list,vectors,hyperparameters,names); result"
   ]
  },
  {
   "cell_type": "code",
   "execution_count": 25,
   "metadata": {},
   "outputs": [
    {
     "data": {
      "image/png": "[encoded data removed]",
      "text/plain": [
       "<Figure size 288x288 with 2 Axes>"
      ]
     },
     "metadata": {
      "needs_background": "light"
     },
     "output_type": "display_data"
    },
    {
     "data": {
      "image/png": "[encoded data removed]",
      "text/plain": [
       "<Figure size 288x288 with 2 Axes>"
      ]
     },
     "metadata": {
      "needs_background": "light"
     },
     "output_type": "display_data"
    }
   ],
   "source": [
    "plot_confusion_matrix(1,conf_list) #confusion matrix for Random Forest + TF-ID"
   ]
  },
  {
   "cell_type": "code",
   "execution_count": 26,
   "metadata": {},
   "outputs": [
    {
     "data": {
      "image/png": "[encoded data removed]",
      "text/plain": [
       "<Figure size 288x288 with 2 Axes>"
      ]
     },
     "metadata": {
      "needs_background": "light"
     },
     "output_type": "display_data"
    },
    {
     "data": {
      "image/png": "[encoded data removed]",
      "text/plain": [
       "<Figure size 288x288 with 2 Axes>"
      ]
     },
     "metadata": {
      "needs_background": "light"
     },
     "output_type": "display_data"
    }
   ],
   "source": [
    "plot_confusion_matrix(5,conf_list) #confusion matrix for best model"
   ]
  },
  {
   "cell_type": "markdown",
   "metadata": {},
   "source": [
    "### Results for balanced classes\n",
    "\n",
    "When rerunning the notebook with the 1st cell in preprocessing enabled for ballanced classes, we get the following results (included as a screenshot image):\n",
    "\n",
    "<img src=\"data:image/png;base64,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\" />\n",
    "\n",
    "The confusion-matrices for all the classifiers would look roughly the same and just like in the non-normalized case, the validation-testset looks roughly the same and performs ~2-3% worse.\n",
    "\n",
    "However, this is to a 20% baseline, so on this limited subsample of data, it performs slightly better on the sub-sampled data, but now strongly over-predicts the -2 and +2 classes, as they are easier to separate.\n",
    "\n",
    "If we use the classifier on the unbalanced data (rerun cell for realoading the original data + rerun validation), it would still over-predict the rather small -2 and +2 classes. This would lead to a sub-26%-baseline result."
   ]
  },
  {
   "cell_type": "markdown",
   "metadata": {},
   "source": [
    "### Summary Findings\n",
    "1. the TF-IDF accuracies are significantly worse: Roughly 26% without preprocessing vs 27-35% with preprocessing.\n",
    "2. using raw word2vec without PCA yields 42% instead of 40% (with vectors of dimensionality 300 vs 20 PCA) - while increasing computation times 5-fold (as there is more data)\n",
    "3. rerunning the notebook with enabling the balancing-cell would not lead to slightly better performing classes - the over-prediction of the bigger classes is a natural consequence of the data.\n",
    "\n",
    "But the principle problems of classifiers over-predicting into the classes -1 and 1 gets even worse here, our tf-idf only predicted the majority-class -1."
   ]
  }
 ],
 "metadata": {
  "colab": {
   "collapsed_sections": [],
   "name": "Assignment_NLP_1.ipynb",
   "provenance": []
  },
  "kernelspec": {
   "display_name": "Python 3",
   "language": "python",
   "name": "python3"
  },
  "language_info": {
   "codemirror_mode": {
    "name": "ipython",
    "version": 3
   },
   "file_extension": ".py",
   "mimetype": "text/x-python",
   "name": "python",
   "nbconvert_exporter": "python",
   "pygments_lexer": "ipython3",
   "version": "3.8.0"
  },
  "widgets": {
   "application/vnd.jupyter.widget-state+json": {
    "0f00aa6cb3474d58a34218ab26d0316d": {
     "model_module": "@jupyter-widgets/controls",
     "model_name": "IntProgressModel",
     "state": {
      "_dom_classes": [],
      "_model_module": "@jupyter-widgets/controls",
      "_model_module_version": "1.5.0",
      "_model_name": "IntProgressModel",
      "_view_count": null,
      "_view_module": "@jupyter-widgets/controls",
      "_view_module_version": "1.5.0",
      "_view_name": "ProgressView",
      "bar_style": "danger",
      "description": "  0%",
      "description_tooltip": null,
      "layout": "IPY_MODEL_b4a8964dc81a45fd81ce6db9d93f25b2",
      "max": 4,
      "min": 0,
      "orientation": "horizontal",
      "style": "IPY_MODEL_939436f9c67e4ba39718cf42c077a5d6",
      "value": 0
     }
    },
    "1299c68936af46f3b78ac1520ceb2397": {
     "model_module": "@jupyter-widgets/base",
     "model_name": "LayoutModel",
     "state": {
      "_model_module": "@jupyter-widgets/base",
      "_model_module_version": "1.2.0",
      "_model_name": "LayoutModel",
      "_view_count": null,
      "_view_module": "@jupyter-widgets/base",
      "_view_module_version": "1.2.0",
      "_view_name": "LayoutView",
      "align_content": null,
      "align_items": null,
      "align_self": null,
      "border": null,
      "bottom": null,
      "display": null,
      "flex": null,
      "flex_flow": null,
      "grid_area": null,
      "grid_auto_columns": null,
      "grid_auto_flow": null,
      "grid_auto_rows": null,
      "grid_column": null,
      "grid_gap": null,
      "grid_row": null,
      "grid_template_areas": null,
      "grid_template_columns": null,
      "grid_template_rows": null,
      "height": null,
      "justify_content": null,
      "justify_items": null,
      "left": null,
      "margin": null,
      "max_height": null,
      "max_width": null,
      "min_height": null,
      "min_width": null,
      "object_fit": null,
      "object_position": null,
      "order": null,
      "overflow": null,
      "overflow_x": null,
      "overflow_y": null,
      "padding": null,
      "right": null,
      "top": null,
      "visibility": null,
      "width": null
     }
    },
    "1717f15018f541078076a4bff97a0cba": {
     "model_module": "@jupyter-widgets/controls",
     "model_name": "IntProgressModel",
     "state": {
      "_dom_classes": [],
      "_model_module": "@jupyter-widgets/controls",
      "_model_module_version": "1.5.0",
      "_model_name": "IntProgressModel",
      "_view_count": null,
      "_view_module": "@jupyter-widgets/controls",
      "_view_module_version": "1.5.0",
      "_view_name": "ProgressView",
      "bar_style": "danger",
      "description": "  0%",
      "description_tooltip": null,
      "layout": "IPY_MODEL_8af81d353c45443290fa6c3a36356bac",
      "max": 2,
      "min": 0,
      "orientation": "horizontal",
      "style": "IPY_MODEL_697c652d864f4b0494b97f604c96bd89",
      "value": 0
     }
    },
    "36f2a940988245669c9e5d570fb42377": {
     "model_module": "@jupyter-widgets/controls",
     "model_name": "HTMLModel",
     "state": {
      "_dom_classes": [],
      "_model_module": "@jupyter-widgets/controls",
      "_model_module_version": "1.5.0",
      "_model_name": "HTMLModel",
      "_view_count": null,
      "_view_module": "@jupyter-widgets/controls",
      "_view_module_version": "1.5.0",
      "_view_name": "HTMLView",
      "description": "",
      "description_tooltip": null,
      "layout": "IPY_MODEL_9782f5302572480f9901ca791b841f05",
      "placeholder": "​",
      "style": "IPY_MODEL_cd10f63e4ff54570af1ab9f640be1d36",
      "value": " 0/4 [2:25:24&lt;?, ?it/s]"
     }
    },
    "697c652d864f4b0494b97f604c96bd89": {
     "model_module": "@jupyter-widgets/controls",
     "model_name": "ProgressStyleModel",
     "state": {
      "_model_module": "@jupyter-widgets/controls",
      "_model_module_version": "1.5.0",
      "_model_name": "ProgressStyleModel",
      "_view_count": null,
      "_view_module": "@jupyter-widgets/base",
      "_view_module_version": "1.2.0",
      "_view_name": "StyleView",
      "bar_color": null,
      "description_width": "initial"
     }
    },
    "7792ec1821b74ce39419e8f90bee6d4f": {
     "model_module": "@jupyter-widgets/controls",
     "model_name": "DescriptionStyleModel",
     "state": {
      "_model_module": "@jupyter-widgets/controls",
      "_model_module_version": "1.5.0",
      "_model_name": "DescriptionStyleModel",
      "_view_count": null,
      "_view_module": "@jupyter-widgets/base",
      "_view_module_version": "1.2.0",
      "_view_name": "StyleView",
      "description_width": ""
     }
    },
    "8af81d353c45443290fa6c3a36356bac": {
     "model_module": "@jupyter-widgets/base",
     "model_name": "LayoutModel",
     "state": {
      "_model_module": "@jupyter-widgets/base",
      "_model_module_version": "1.2.0",
      "_model_name": "LayoutModel",
      "_view_count": null,
      "_view_module": "@jupyter-widgets/base",
      "_view_module_version": "1.2.0",
      "_view_name": "LayoutView",
      "align_content": null,
      "align_items": null,
      "align_self": null,
      "border": null,
      "bottom": null,
      "display": null,
      "flex": null,
      "flex_flow": null,
      "grid_area": null,
      "grid_auto_columns": null,
      "grid_auto_flow": null,
      "grid_auto_rows": null,
      "grid_column": null,
      "grid_gap": null,
      "grid_row": null,
      "grid_template_areas": null,
      "grid_template_columns": null,
      "grid_template_rows": null,
      "height": null,
      "justify_content": null,
      "justify_items": null,
      "left": null,
      "margin": null,
      "max_height": null,
      "max_width": null,
      "min_height": null,
      "min_width": null,
      "object_fit": null,
      "object_position": null,
      "order": null,
      "overflow": null,
      "overflow_x": null,
      "overflow_y": null,
      "padding": null,
      "right": null,
      "top": null,
      "visibility": null,
      "width": null
     }
    },
    "8ed1389830924befabdd65210ee301b4": {
     "model_module": "@jupyter-widgets/base",
     "model_name": "LayoutModel",
     "state": {
      "_model_module": "@jupyter-widgets/base",
      "_model_module_version": "1.2.0",
      "_model_name": "LayoutModel",
      "_view_count": null,
      "_view_module": "@jupyter-widgets/base",
      "_view_module_version": "1.2.0",
      "_view_name": "LayoutView",
      "align_content": null,
      "align_items": null,
      "align_self": null,
      "border": null,
      "bottom": null,
      "display": null,
      "flex": null,
      "flex_flow": null,
      "grid_area": null,
      "grid_auto_columns": null,
      "grid_auto_flow": null,
      "grid_auto_rows": null,
      "grid_column": null,
      "grid_gap": null,
      "grid_row": null,
      "grid_template_areas": null,
      "grid_template_columns": null,
      "grid_template_rows": null,
      "height": null,
      "justify_content": null,
      "justify_items": null,
      "left": null,
      "margin": null,
      "max_height": null,
      "max_width": null,
      "min_height": null,
      "min_width": null,
      "object_fit": null,
      "object_position": null,
      "order": null,
      "overflow": null,
      "overflow_x": null,
      "overflow_y": null,
      "padding": null,
      "right": null,
      "top": null,
      "visibility": null,
      "width": null
     }
    },
    "9190d69ab6c9478797f5144c34242ebd": {
     "model_module": "@jupyter-widgets/controls",
     "model_name": "HBoxModel",
     "state": {
      "_dom_classes": [],
      "_model_module": "@jupyter-widgets/controls",
      "_model_module_version": "1.5.0",
      "_model_name": "HBoxModel",
      "_view_count": null,
      "_view_module": "@jupyter-widgets/controls",
      "_view_module_version": "1.5.0",
      "_view_name": "HBoxView",
      "box_style": "",
      "children": [
       "IPY_MODEL_0f00aa6cb3474d58a34218ab26d0316d",
       "IPY_MODEL_36f2a940988245669c9e5d570fb42377"
      ],
      "layout": "IPY_MODEL_8ed1389830924befabdd65210ee301b4"
     }
    },
    "939436f9c67e4ba39718cf42c077a5d6": {
     "model_module": "@jupyter-widgets/controls",
     "model_name": "ProgressStyleModel",
     "state": {
      "_model_module": "@jupyter-widgets/controls",
      "_model_module_version": "1.5.0",
      "_model_name": "ProgressStyleModel",
      "_view_count": null,
      "_view_module": "@jupyter-widgets/base",
      "_view_module_version": "1.2.0",
      "_view_name": "StyleView",
      "bar_color": null,
      "description_width": "initial"
     }
    },
    "9782f5302572480f9901ca791b841f05": {
     "model_module": "@jupyter-widgets/base",
     "model_name": "LayoutModel",
     "state": {
      "_model_module": "@jupyter-widgets/base",
      "_model_module_version": "1.2.0",
      "_model_name": "LayoutModel",
      "_view_count": null,
      "_view_module": "@jupyter-widgets/base",
      "_view_module_version": "1.2.0",
      "_view_name": "LayoutView",
      "align_content": null,
      "align_items": null,
      "align_self": null,
      "border": null,
      "bottom": null,
      "display": null,
      "flex": null,
      "flex_flow": null,
      "grid_area": null,
      "grid_auto_columns": null,
      "grid_auto_flow": null,
      "grid_auto_rows": null,
      "grid_column": null,
      "grid_gap": null,
      "grid_row": null,
      "grid_template_areas": null,
      "grid_template_columns": null,
      "grid_template_rows": null,
      "height": null,
      "justify_content": null,
      "justify_items": null,
      "left": null,
      "margin": null,
      "max_height": null,
      "max_width": null,
      "min_height": null,
      "min_width": null,
      "object_fit": null,
      "object_position": null,
      "order": null,
      "overflow": null,
      "overflow_x": null,
      "overflow_y": null,
      "padding": null,
      "right": null,
      "top": null,
      "visibility": null,
      "width": null
     }
    },
    "b4a8964dc81a45fd81ce6db9d93f25b2": {
     "model_module": "@jupyter-widgets/base",
     "model_name": "LayoutModel",
     "state": {
      "_model_module": "@jupyter-widgets/base",
      "_model_module_version": "1.2.0",
      "_model_name": "LayoutModel",
      "_view_count": null,
      "_view_module": "@jupyter-widgets/base",
      "_view_module_version": "1.2.0",
      "_view_name": "LayoutView",
      "align_content": null,
      "align_items": null,
      "align_self": null,
      "border": null,
      "bottom": null,
      "display": null,
      "flex": null,
      "flex_flow": null,
      "grid_area": null,
      "grid_auto_columns": null,
      "grid_auto_flow": null,
      "grid_auto_rows": null,
      "grid_column": null,
      "grid_gap": null,
      "grid_row": null,
      "grid_template_areas": null,
      "grid_template_columns": null,
      "grid_template_rows": null,
      "height": null,
      "justify_content": null,
      "justify_items": null,
      "left": null,
      "margin": null,
      "max_height": null,
      "max_width": null,
      "min_height": null,
      "min_width": null,
      "object_fit": null,
      "object_position": null,
      "order": null,
      "overflow": null,
      "overflow_x": null,
      "overflow_y": null,
      "padding": null,
      "right": null,
      "top": null,
      "visibility": null,
      "width": null
     }
    },
    "cd10f63e4ff54570af1ab9f640be1d36": {
     "model_module": "@jupyter-widgets/controls",
     "model_name": "DescriptionStyleModel",
     "state": {
      "_model_module": "@jupyter-widgets/controls",
      "_model_module_version": "1.5.0",
      "_model_name": "DescriptionStyleModel",
      "_view_count": null,
      "_view_module": "@jupyter-widgets/base",
      "_view_module_version": "1.2.0",
      "_view_name": "StyleView",
      "description_width": ""
     }
    },
    "cf20713d6d5b475c94cd08ccc8c334f0": {
     "model_module": "@jupyter-widgets/controls",
     "model_name": "HBoxModel",
     "state": {
      "_dom_classes": [],
      "_model_module": "@jupyter-widgets/controls",
      "_model_module_version": "1.5.0",
      "_model_name": "HBoxModel",
      "_view_count": null,
      "_view_module": "@jupyter-widgets/controls",
      "_view_module_version": "1.5.0",
      "_view_name": "HBoxView",
      "box_style": "",
      "children": [
       "IPY_MODEL_1717f15018f541078076a4bff97a0cba",
       "IPY_MODEL_d5ecef9880bb4cc69af25cdc91f19fcf"
      ],
      "layout": "IPY_MODEL_eaf50e9f64714bde9669d355d789122f"
     }
    },
    "d5ecef9880bb4cc69af25cdc91f19fcf": {
     "model_module": "@jupyter-widgets/controls",
     "model_name": "HTMLModel",
     "state": {
      "_dom_classes": [],
      "_model_module": "@jupyter-widgets/controls",
      "_model_module_version": "1.5.0",
      "_model_name": "HTMLModel",
      "_view_count": null,
      "_view_module": "@jupyter-widgets/controls",
      "_view_module_version": "1.5.0",
      "_view_name": "HTMLView",
      "description": "",
      "description_tooltip": null,
      "layout": "IPY_MODEL_1299c68936af46f3b78ac1520ceb2397",
      "placeholder": "​",
      "style": "IPY_MODEL_7792ec1821b74ce39419e8f90bee6d4f",
      "value": " 0/2 [2:25:24&lt;?, ?it/s]"
     }
    },
    "eaf50e9f64714bde9669d355d789122f": {
     "model_module": "@jupyter-widgets/base",
     "model_name": "LayoutModel",
     "state": {
      "_model_module": "@jupyter-widgets/base",
      "_model_module_version": "1.2.0",
      "_model_name": "LayoutModel",
      "_view_count": null,
      "_view_module": "@jupyter-widgets/base",
      "_view_module_version": "1.2.0",
      "_view_name": "LayoutView",
      "align_content": null,
      "align_items": null,
      "align_self": null,
      "border": null,
      "bottom": null,
      "display": null,
      "flex": null,
      "flex_flow": null,
      "grid_area": null,
      "grid_auto_columns": null,
      "grid_auto_flow": null,
      "grid_auto_rows": null,
      "grid_column": null,
      "grid_gap": null,
      "grid_row": null,
      "grid_template_areas": null,
      "grid_template_columns": null,
      "grid_template_rows": null,
      "height": null,
      "justify_content": null,
      "justify_items": null,
      "left": null,
      "margin": null,
      "max_height": null,
      "max_width": null,
      "min_height": null,
      "min_width": null,
      "object_fit": null,
      "object_position": null,
      "order": null,
      "overflow": null,
      "overflow_x": null,
      "overflow_y": null,
      "padding": null,
      "right": null,
      "top": null,
      "visibility": null,
      "width": null
     }
    }
   }
  }
 },
 "nbformat": 4,
 "nbformat_minor": 4
}
